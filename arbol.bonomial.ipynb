{
  "nbformat": 4,
  "nbformat_minor": 0,
  "metadata": {
    "colab": {
      "name": "Untitled6.ipynb",
      "provenance": [],
      "collapsed_sections": []
    },
    "kernelspec": {
      "name": "python3",
      "display_name": "Python 3"
    },
    "language_info": {
      "name": "python"
    }
  },
  "cells": [
    {
      "cell_type": "markdown",
      "source": [
        "## Árbol binomial para el cálculo del precio de opciones"
      ],
      "metadata": {
        "id": "aSCWM6pk0xMg"
      }
    },
    {
      "cell_type": "markdown",
      "source": [
        "Creando una función"
      ],
      "metadata": {
        "id": "GUEloED0-ev_"
      }
    },
    {
      "cell_type": "code",
      "source": [
        "import numpy as np\n",
        "from scipy.stats import binom #se importa esta librería\n",
        "def prima(tipo,spot,strik,anyos,n,tInt):\n",
        "  r=np.log(1+tInt)  # r es el tanto instantáneo\n",
        "  T=anyos/n\n",
        "  u=1.10 #multiplicador subida\n",
        "  d=1/u #multiplicador bajada\n",
        "  p=(np.exp(r*T)-d)/(u-d) #pSubida\n",
        "  Sn=[0]*(n+1) #Sn es la lista de precios del activo subyacene a fecha de vencimiento\n",
        "  payoff=[0]*(n+1) #inicilizamos a cero la lista del payoff\n",
        "  prima=0\n",
        "  for i in range(n+1):\n",
        "    Sn[i]=spot*u**(n-i)*d**i #se calcula el precio del activo subyacente en cada posición\n",
        "    if tipo.lower()=='call':\n",
        "      payoff[i]=max(0,Sn[i]-strik) #si la opción es de compra\n",
        "    if tipo.lower()=='put':\n",
        "      payoff[i]=max(0,strik-Sn[i]) #si la opción es de venta\n",
        "    prima+=payoff[i]*binom.pmf(n-i, n, p) #se calcula el precio de la opción \n",
        "  prima*=np.exp(-r*anyos) #descontamos \n",
        "  return prima\n",
        "  \n",
        "m=6 #Calcularemos el arbol desde 1 hasta m pasos\n",
        "evolucion=[0]*m\n",
        "for j in range(m): #se pone j+1 pq las listas empiezan en cero\n",
        "  evolucion[j]=prima('call',100,100,1,j+1,0.05)\n",
        "\n",
        "print(prima('call',100,100,1,6,(0.05)))\n",
        "\n"
      ],
      "metadata": {
        "colab": {
          "base_uri": "https://localhost:8080/"
        },
        "id": "pol1BGpD0pxv",
        "outputId": "fb714c08-760d-437e-8880-e25b44e23ce0"
      },
      "execution_count": null,
      "outputs": [
        {
          "output_type": "stream",
          "name": "stdout",
          "text": [
            "11.272597016718043\n"
          ]
        }
      ]
    },
    {
      "cell_type": "markdown",
      "source": [
        "Sin crear una función"
      ],
      "metadata": {
        "id": "LXVIaRb0-jdQ"
      }
    },
    {
      "cell_type": "code",
      "source": [
        "import numpy as np\n",
        "from scipy.stats import binom #se importa esta librería \n",
        "tipo='call'\n",
        "spot=120\n",
        "strik=130\n",
        "anyos=2\n",
        "n=6\n",
        "tInt=0.05\n",
        "r=np.log(1+tInt)  # r es el tanto instantáneo\n",
        "T=anyos/n\n",
        "u=1.10\n",
        "d=1/u \n",
        "p=(np.exp(r*T)-d)/(u-d) #probabilidad de subida\n",
        "Sn=[0]*(n+1) #Sn es la lista de precios del activo subyacene a fecha de vencimiento\n",
        "payoff=[0]*(n+1) #inicilizamos a cero payoff\n",
        "prima=0\n",
        "for i in range(n+1):\n",
        "  Sn[i]=spot*u**(n-i)*d**i #se calcula el precio del activo subyacente en cada posición\n",
        "  if tipo.lower()=='call':\n",
        "    payoff[i]=max(0,Sn[i]-strik) #si la opción es de compra\n",
        "  if tipo.lower()=='put':\n",
        "    payoff[i]=max(0,strik-Sn[i]) #si la opción es de venta\n",
        "  prima+=payoff[i]*binom.pmf(n-i, n, p) #se calcula el precio de la opción \n",
        "print(prima)\n"
      ],
      "metadata": {
        "colab": {
          "base_uri": "https://localhost:8080/"
        },
        "id": "6hnTPI7j68hp",
        "outputId": "afbbd8a0-dc5c-4c7e-d30f-e1820d4b2c6d"
      },
      "execution_count": null,
      "outputs": [
        {
          "output_type": "stream",
          "name": "stdout",
          "text": [
            "11.272597016718043\n"
          ]
        }
      ]
    }
  ]
}
